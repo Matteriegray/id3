{
  "nbformat": 4,
  "nbformat_minor": 0,
  "metadata": {
    "colab": {
      "provenance": [],
      "authorship_tag": "ABX9TyOYHzVG5ma3K92tjnoAN62k",
      "include_colab_link": true
    },
    "kernelspec": {
      "name": "python3",
      "display_name": "Python 3"
    },
    "language_info": {
      "name": "python"
    }
  },
  "cells": [
    {
      "cell_type": "markdown",
      "metadata": {
        "id": "view-in-github",
        "colab_type": "text"
      },
      "source": [
        "<a href=\"https://colab.research.google.com/github/Matteriegray/id3/blob/main/id3.ipynb\" target=\"_parent\"><img src=\"https://colab.research.google.com/assets/colab-badge.svg\" alt=\"Open In Colab\"/></a>"
      ]
    },
    {
      "cell_type": "code",
      "execution_count": 12,
      "metadata": {
        "id": "KPXNr8MQezl5"
      },
      "outputs": [],
      "source": [
        "import pandas as pd # manipulating the csv file\n",
        "import numpy as np # for mathematical calculations"
      ]
    },
    {
      "cell_type": "code",
      "source": [
        "train_data_m = pd.read_csv('/datalab/PlayTennis.csv') #import the data to the model\n",
        "train_data_m.head()"
      ],
      "metadata": {
        "colab": {
          "base_uri": "https://localhost:8080/",
          "height": 206
        },
        "collapsed": true,
        "id": "gnLGplXCfXJZ",
        "outputId": "fcff616d-16ce-4305-f9bf-f671fe3489ab"
      },
      "execution_count": 13,
      "outputs": [
        {
          "output_type": "execute_result",
          "data": {
            "text/plain": [
              "    Outlook Temperature Humidity    Wind Play Tennis\n",
              "0     Sunny         Hot     High    Weak          No\n",
              "1     Sunny         Hot     High  Strong          No\n",
              "2  Overcast         Hot     High    Weak         Yes\n",
              "3      Rain        Mild     High    Weak         Yes\n",
              "4      Rain        Cool   Normal    Weak         Yes"
            ],
            "text/html": [
              "\n",
              "  <div id=\"df-413ff2f7-f621-4a57-8105-1c3b214ea522\" class=\"colab-df-container\">\n",
              "    <div>\n",
              "<style scoped>\n",
              "    .dataframe tbody tr th:only-of-type {\n",
              "        vertical-align: middle;\n",
              "    }\n",
              "\n",
              "    .dataframe tbody tr th {\n",
              "        vertical-align: top;\n",
              "    }\n",
              "\n",
              "    .dataframe thead th {\n",
              "        text-align: right;\n",
              "    }\n",
              "</style>\n",
              "<table border=\"1\" class=\"dataframe\">\n",
              "  <thead>\n",
              "    <tr style=\"text-align: right;\">\n",
              "      <th></th>\n",
              "      <th>Outlook</th>\n",
              "      <th>Temperature</th>\n",
              "      <th>Humidity</th>\n",
              "      <th>Wind</th>\n",
              "      <th>Play Tennis</th>\n",
              "    </tr>\n",
              "  </thead>\n",
              "  <tbody>\n",
              "    <tr>\n",
              "      <th>0</th>\n",
              "      <td>Sunny</td>\n",
              "      <td>Hot</td>\n",
              "      <td>High</td>\n",
              "      <td>Weak</td>\n",
              "      <td>No</td>\n",
              "    </tr>\n",
              "    <tr>\n",
              "      <th>1</th>\n",
              "      <td>Sunny</td>\n",
              "      <td>Hot</td>\n",
              "      <td>High</td>\n",
              "      <td>Strong</td>\n",
              "      <td>No</td>\n",
              "    </tr>\n",
              "    <tr>\n",
              "      <th>2</th>\n",
              "      <td>Overcast</td>\n",
              "      <td>Hot</td>\n",
              "      <td>High</td>\n",
              "      <td>Weak</td>\n",
              "      <td>Yes</td>\n",
              "    </tr>\n",
              "    <tr>\n",
              "      <th>3</th>\n",
              "      <td>Rain</td>\n",
              "      <td>Mild</td>\n",
              "      <td>High</td>\n",
              "      <td>Weak</td>\n",
              "      <td>Yes</td>\n",
              "    </tr>\n",
              "    <tr>\n",
              "      <th>4</th>\n",
              "      <td>Rain</td>\n",
              "      <td>Cool</td>\n",
              "      <td>Normal</td>\n",
              "      <td>Weak</td>\n",
              "      <td>Yes</td>\n",
              "    </tr>\n",
              "  </tbody>\n",
              "</table>\n",
              "</div>\n",
              "    <div class=\"colab-df-buttons\">\n",
              "\n",
              "  <div class=\"colab-df-container\">\n",
              "    <button class=\"colab-df-convert\" onclick=\"convertToInteractive('df-413ff2f7-f621-4a57-8105-1c3b214ea522')\"\n",
              "            title=\"Convert this dataframe to an interactive table.\"\n",
              "            style=\"display:none;\">\n",
              "\n",
              "  <svg xmlns=\"http://www.w3.org/2000/svg\" height=\"24px\" viewBox=\"0 -960 960 960\">\n",
              "    <path d=\"M120-120v-720h720v720H120Zm60-500h600v-160H180v160Zm220 220h160v-160H400v160Zm0 220h160v-160H400v160ZM180-400h160v-160H180v160Zm440 0h160v-160H620v160ZM180-180h160v-160H180v160Zm440 0h160v-160H620v160Z\"/>\n",
              "  </svg>\n",
              "    </button>\n",
              "\n",
              "  <style>\n",
              "    .colab-df-container {\n",
              "      display:flex;\n",
              "      gap: 12px;\n",
              "    }\n",
              "\n",
              "    .colab-df-convert {\n",
              "      background-color: #E8F0FE;\n",
              "      border: none;\n",
              "      border-radius: 50%;\n",
              "      cursor: pointer;\n",
              "      display: none;\n",
              "      fill: #1967D2;\n",
              "      height: 32px;\n",
              "      padding: 0 0 0 0;\n",
              "      width: 32px;\n",
              "    }\n",
              "\n",
              "    .colab-df-convert:hover {\n",
              "      background-color: #E2EBFA;\n",
              "      box-shadow: 0px 1px 2px rgba(60, 64, 67, 0.3), 0px 1px 3px 1px rgba(60, 64, 67, 0.15);\n",
              "      fill: #174EA6;\n",
              "    }\n",
              "\n",
              "    .colab-df-buttons div {\n",
              "      margin-bottom: 4px;\n",
              "    }\n",
              "\n",
              "    [theme=dark] .colab-df-convert {\n",
              "      background-color: #3B4455;\n",
              "      fill: #D2E3FC;\n",
              "    }\n",
              "\n",
              "    [theme=dark] .colab-df-convert:hover {\n",
              "      background-color: #434B5C;\n",
              "      box-shadow: 0px 1px 3px 1px rgba(0, 0, 0, 0.15);\n",
              "      filter: drop-shadow(0px 1px 2px rgba(0, 0, 0, 0.3));\n",
              "      fill: #FFFFFF;\n",
              "    }\n",
              "  </style>\n",
              "\n",
              "    <script>\n",
              "      const buttonEl =\n",
              "        document.querySelector('#df-413ff2f7-f621-4a57-8105-1c3b214ea522 button.colab-df-convert');\n",
              "      buttonEl.style.display =\n",
              "        google.colab.kernel.accessAllowed ? 'block' : 'none';\n",
              "\n",
              "      async function convertToInteractive(key) {\n",
              "        const element = document.querySelector('#df-413ff2f7-f621-4a57-8105-1c3b214ea522');\n",
              "        const dataTable =\n",
              "          await google.colab.kernel.invokeFunction('convertToInteractive',\n",
              "                                                    [key], {});\n",
              "        if (!dataTable) return;\n",
              "\n",
              "        const docLinkHtml = 'Like what you see? Visit the ' +\n",
              "          '<a target=\"_blank\" href=https://colab.research.google.com/notebooks/data_table.ipynb>data table notebook</a>'\n",
              "          + ' to learn more about interactive tables.';\n",
              "        element.innerHTML = '';\n",
              "        dataTable['output_type'] = 'display_data';\n",
              "        await google.colab.output.renderOutput(dataTable, element);\n",
              "        const docLink = document.createElement('div');\n",
              "        docLink.innerHTML = docLinkHtml;\n",
              "        element.appendChild(docLink);\n",
              "      }\n",
              "    </script>\n",
              "  </div>\n",
              "\n",
              "\n",
              "<div id=\"df-b9a2bb03-b8f2-4f06-8798-f473cb872c9f\">\n",
              "  <button class=\"colab-df-quickchart\" onclick=\"quickchart('df-b9a2bb03-b8f2-4f06-8798-f473cb872c9f')\"\n",
              "            title=\"Suggest charts\"\n",
              "            style=\"display:none;\">\n",
              "\n",
              "<svg xmlns=\"http://www.w3.org/2000/svg\" height=\"24px\"viewBox=\"0 0 24 24\"\n",
              "     width=\"24px\">\n",
              "    <g>\n",
              "        <path d=\"M19 3H5c-1.1 0-2 .9-2 2v14c0 1.1.9 2 2 2h14c1.1 0 2-.9 2-2V5c0-1.1-.9-2-2-2zM9 17H7v-7h2v7zm4 0h-2V7h2v10zm4 0h-2v-4h2v4z\"/>\n",
              "    </g>\n",
              "</svg>\n",
              "  </button>\n",
              "\n",
              "<style>\n",
              "  .colab-df-quickchart {\n",
              "      --bg-color: #E8F0FE;\n",
              "      --fill-color: #1967D2;\n",
              "      --hover-bg-color: #E2EBFA;\n",
              "      --hover-fill-color: #174EA6;\n",
              "      --disabled-fill-color: #AAA;\n",
              "      --disabled-bg-color: #DDD;\n",
              "  }\n",
              "\n",
              "  [theme=dark] .colab-df-quickchart {\n",
              "      --bg-color: #3B4455;\n",
              "      --fill-color: #D2E3FC;\n",
              "      --hover-bg-color: #434B5C;\n",
              "      --hover-fill-color: #FFFFFF;\n",
              "      --disabled-bg-color: #3B4455;\n",
              "      --disabled-fill-color: #666;\n",
              "  }\n",
              "\n",
              "  .colab-df-quickchart {\n",
              "    background-color: var(--bg-color);\n",
              "    border: none;\n",
              "    border-radius: 50%;\n",
              "    cursor: pointer;\n",
              "    display: none;\n",
              "    fill: var(--fill-color);\n",
              "    height: 32px;\n",
              "    padding: 0;\n",
              "    width: 32px;\n",
              "  }\n",
              "\n",
              "  .colab-df-quickchart:hover {\n",
              "    background-color: var(--hover-bg-color);\n",
              "    box-shadow: 0 1px 2px rgba(60, 64, 67, 0.3), 0 1px 3px 1px rgba(60, 64, 67, 0.15);\n",
              "    fill: var(--button-hover-fill-color);\n",
              "  }\n",
              "\n",
              "  .colab-df-quickchart-complete:disabled,\n",
              "  .colab-df-quickchart-complete:disabled:hover {\n",
              "    background-color: var(--disabled-bg-color);\n",
              "    fill: var(--disabled-fill-color);\n",
              "    box-shadow: none;\n",
              "  }\n",
              "\n",
              "  .colab-df-spinner {\n",
              "    border: 2px solid var(--fill-color);\n",
              "    border-color: transparent;\n",
              "    border-bottom-color: var(--fill-color);\n",
              "    animation:\n",
              "      spin 1s steps(1) infinite;\n",
              "  }\n",
              "\n",
              "  @keyframes spin {\n",
              "    0% {\n",
              "      border-color: transparent;\n",
              "      border-bottom-color: var(--fill-color);\n",
              "      border-left-color: var(--fill-color);\n",
              "    }\n",
              "    20% {\n",
              "      border-color: transparent;\n",
              "      border-left-color: var(--fill-color);\n",
              "      border-top-color: var(--fill-color);\n",
              "    }\n",
              "    30% {\n",
              "      border-color: transparent;\n",
              "      border-left-color: var(--fill-color);\n",
              "      border-top-color: var(--fill-color);\n",
              "      border-right-color: var(--fill-color);\n",
              "    }\n",
              "    40% {\n",
              "      border-color: transparent;\n",
              "      border-right-color: var(--fill-color);\n",
              "      border-top-color: var(--fill-color);\n",
              "    }\n",
              "    60% {\n",
              "      border-color: transparent;\n",
              "      border-right-color: var(--fill-color);\n",
              "    }\n",
              "    80% {\n",
              "      border-color: transparent;\n",
              "      border-right-color: var(--fill-color);\n",
              "      border-bottom-color: var(--fill-color);\n",
              "    }\n",
              "    90% {\n",
              "      border-color: transparent;\n",
              "      border-bottom-color: var(--fill-color);\n",
              "    }\n",
              "  }\n",
              "</style>\n",
              "\n",
              "  <script>\n",
              "    async function quickchart(key) {\n",
              "      const quickchartButtonEl =\n",
              "        document.querySelector('#' + key + ' button');\n",
              "      quickchartButtonEl.disabled = true;  // To prevent multiple clicks.\n",
              "      quickchartButtonEl.classList.add('colab-df-spinner');\n",
              "      try {\n",
              "        const charts = await google.colab.kernel.invokeFunction(\n",
              "            'suggestCharts', [key], {});\n",
              "      } catch (error) {\n",
              "        console.error('Error during call to suggestCharts:', error);\n",
              "      }\n",
              "      quickchartButtonEl.classList.remove('colab-df-spinner');\n",
              "      quickchartButtonEl.classList.add('colab-df-quickchart-complete');\n",
              "    }\n",
              "    (() => {\n",
              "      let quickchartButtonEl =\n",
              "        document.querySelector('#df-b9a2bb03-b8f2-4f06-8798-f473cb872c9f button');\n",
              "      quickchartButtonEl.style.display =\n",
              "        google.colab.kernel.accessAllowed ? 'block' : 'none';\n",
              "    })();\n",
              "  </script>\n",
              "</div>\n",
              "\n",
              "    </div>\n",
              "  </div>\n"
            ],
            "application/vnd.google.colaboratory.intrinsic+json": {
              "type": "dataframe",
              "variable_name": "train_data_m",
              "summary": "{\n  \"name\": \"train_data_m\",\n  \"rows\": 14,\n  \"fields\": [\n    {\n      \"column\": \"Outlook\",\n      \"properties\": {\n        \"dtype\": \"category\",\n        \"num_unique_values\": 3,\n        \"samples\": [\n          \"Sunny\",\n          \"Overcast\",\n          \"Rain\"\n        ],\n        \"semantic_type\": \"\",\n        \"description\": \"\"\n      }\n    },\n    {\n      \"column\": \"Temperature\",\n      \"properties\": {\n        \"dtype\": \"category\",\n        \"num_unique_values\": 3,\n        \"samples\": [\n          \"Hot\",\n          \"Mild\",\n          \"Cool\"\n        ],\n        \"semantic_type\": \"\",\n        \"description\": \"\"\n      }\n    },\n    {\n      \"column\": \"Humidity\",\n      \"properties\": {\n        \"dtype\": \"category\",\n        \"num_unique_values\": 2,\n        \"samples\": [\n          \"Normal\",\n          \"High\"\n        ],\n        \"semantic_type\": \"\",\n        \"description\": \"\"\n      }\n    },\n    {\n      \"column\": \"Wind\",\n      \"properties\": {\n        \"dtype\": \"category\",\n        \"num_unique_values\": 2,\n        \"samples\": [\n          \"Strong\",\n          \"Weak\"\n        ],\n        \"semantic_type\": \"\",\n        \"description\": \"\"\n      }\n    },\n    {\n      \"column\": \"Play Tennis\",\n      \"properties\": {\n        \"dtype\": \"category\",\n        \"num_unique_values\": 2,\n        \"samples\": [\n          \"Yes\",\n          \"No\"\n        ],\n        \"semantic_type\": \"\",\n        \"description\": \"\"\n      }\n    }\n  ]\n}"
            }
          },
          "metadata": {},
          "execution_count": 13
        }
      ]
    },
    {
      "cell_type": "code",
      "source": [
        "#Calculate the entropy of the whole dataset\n",
        "\n",
        "def calc_entropy(train_data, label, class_list):\n",
        "  total_row = train_data.shape[0] #the shape of the data is a tuple.\n",
        "  total_entr = 0\n",
        "  for c in class_list:\n",
        "    total_class_count = train_data[train_data[label]==c].shape[0]\n",
        "    total_class_entr = - (total_class_count/total_row)*np.log2(total_class_count/total_row)\n",
        "    total_entr += total_class_entr\n",
        "  return total_entr"
      ],
      "metadata": {
        "id": "HsBdgLrMf-cf"
      },
      "execution_count": 14,
      "outputs": []
    },
    {
      "cell_type": "code",
      "source": [
        "# Calculate entropy for individual features\n",
        "\n",
        "def calc_entropy_feature(feature_value_data, label, class_list):\n",
        "  class_count = feature_value_data.shape[0]\n",
        "  entropy = 0\n",
        "  for c in class_list:\n",
        "    label_count_class = feature_value_data[feature_value_data[label]==c].shape[0]\n",
        "    entropy_class = 0\n",
        "    if label_count_class != 0:\n",
        "      probability_class = label_count_class/class_count\n",
        "      entropy_class = - probability_class * np.log2(probability_class)\n",
        "    entropy += entropy_class\n",
        "  return entropy"
      ],
      "metadata": {
        "id": "VjAYVurJfxCn"
      },
      "execution_count": 15,
      "outputs": []
    },
    {
      "cell_type": "code",
      "source": [
        "# Calculating IG for a feature\n",
        "\n",
        "def calc_ig(feature_name, train_data, label, class_list):\n",
        "  feature_value_list = train_data[feature_name].unique()\n",
        "  feature_row = train_data.shape[0]\n",
        "  feature_info = 0.0\n",
        "\n",
        "  for feature_value in feature_value_list:\n",
        "    feature_value_data = train_data[train_data[feature_name]==feature_value]\n",
        "    feature_value_count = feature_value_data.shape[0]\n",
        "    feature_value_entropy = calc_entropy_feature(feature_value_data, label, class_list)\n",
        "    feature_value_probability = feature_value_count/feature_row\n",
        "    feature_info += feature_value_probability * feature_value_entropy\n",
        "\n",
        "  return calc_entropy(train_data, label, class_list) - feature_info"
      ],
      "metadata": {
        "id": "tI3I1KN5laYt"
      },
      "execution_count": 16,
      "outputs": []
    },
    {
      "cell_type": "code",
      "source": [
        "# Find the highest information gain feature\n",
        "\n",
        "def highest_ig(train_data, label, class_list):\n",
        "  feature_list = train_data.columns.drop(label)\n",
        "  max_info_gain = -1\n",
        "  max_info_feature = None\n",
        "\n",
        "  for feature in feature_list:\n",
        "    feature_info_gain = calc_ig(feature, train_data, label, class_list)\n",
        "    if max_info_gain < feature_info_gain:\n",
        "      max_info_gain = feature_info_gain\n",
        "      max_info_feature = feature\n",
        "\n",
        "  return max_info_feature"
      ],
      "metadata": {
        "id": "r7xt5fX3n410"
      },
      "execution_count": 17,
      "outputs": []
    },
    {
      "cell_type": "code",
      "source": [
        "# Adding a node or a subclass to the tree\n",
        "\n",
        "def subtree(feature_name, train_data, label, class_list):\n",
        "  feature_value_count = train_data[feature_name].value_counts(sort=False)\n",
        "  tree = {}\n",
        "\n",
        "  for feature_value, count in feature_value_count.items():\n",
        "    feature_value_data = train_data[train_data[feature_name]==feature_value]\n",
        "    assigned_to_node = False\n",
        "\n",
        "    for c in class_list:\n",
        "      class_count = feature_value_data[feature_value_data[label]==c].shape[0]\n",
        "\n",
        "      if class_count == count:\n",
        "        tree[feature_value] = c\n",
        "        train_data = train_data[train_data[feature_name]!=feature_value]\n",
        "        assigned_to_node = True\n",
        "\n",
        "    if not assigned_to_node:\n",
        "      tree[feature_value] = \"?\"\n",
        "\n",
        "  return tree, train_data\n",
        "\n"
      ],
      "metadata": {
        "id": "bepA2XFSpnar"
      },
      "execution_count": 18,
      "outputs": []
    },
    {
      "cell_type": "code",
      "source": [
        "# Generating tree\n",
        "\n",
        "def generate_tree(root, prev_feature_value, train_data, label, class_list):\n",
        "  if train_data.shape[0]!=0:\n",
        "    max_info_feature = highest_ig(train_data, label, class_list)\n",
        "    tree, train_data = subtree(max_info_feature, train_data, label, class_list)\n",
        "    next_root = None\n",
        "\n",
        "    if prev_feature_value!=None:\n",
        "      root[prev_feature_value] = dict()\n",
        "      root[prev_feature_value][max_info_feature] = tree\n",
        "      next_root = root[prev_feature_value][max_info_feature]\n",
        "\n",
        "    else:\n",
        "      root[max_info_feature] = tree\n",
        "      next_root = root[max_info_feature]\n",
        "\n",
        "    for node, branch in list(next_root.items()):\n",
        "      if branch == '?':\n",
        "        feature_value_data = train_data[train_data[max_info_feature] == node]\n",
        "        generate_tree(next_root, node, feature_value_data, label, class_list)"
      ],
      "metadata": {
        "id": "Isx_w07EswF6"
      },
      "execution_count": 19,
      "outputs": []
    },
    {
      "cell_type": "code",
      "source": [
        "#Create a ID3 algorithm\n",
        "\n",
        "def id3(train_data_m, label):\n",
        "  train_data = train_data_m.copy()\n",
        "  tree = {}\n",
        "  class_list = train_data[label].unique()\n",
        "  generate_tree(tree, None, train_data, label, class_list)\n",
        "  return tree"
      ],
      "metadata": {
        "id": "r_adN9zSxM0O"
      },
      "execution_count": 20,
      "outputs": []
    },
    {
      "cell_type": "code",
      "source": [
        "# Start the id3\n",
        "\n",
        "tree = id3(train_data_m,'Play Tennis')\n",
        "print(tree)"
      ],
      "metadata": {
        "colab": {
          "base_uri": "https://localhost:8080/"
        },
        "collapsed": true,
        "id": "SusTK7Pexy3T",
        "outputId": "3a079723-bfe4-4291-b3dd-b4d02d90949d"
      },
      "execution_count": 21,
      "outputs": [
        {
          "output_type": "stream",
          "name": "stdout",
          "text": [
            "{'Outlook': {'Sunny': {'Humidity': {'High': 'No', 'Normal': 'Yes'}}, 'Overcast': 'Yes', 'Rain': {'Wind': {'Weak': 'Yes', 'Strong': 'No'}}}}\n"
          ]
        }
      ]
    },
    {
      "cell_type": "code",
      "source": [
        "# Predict the result from the tree\n",
        "\n",
        "def predict(tree, instance):\n",
        "  if not isinstance(tree, dict):\n",
        "    return tree\n",
        "  else:\n",
        "    root_node = next(iter(tree))\n",
        "    feature_value = instance[root_node]\n",
        "    if feature_value in tree[root_node]:\n",
        "      return predict(tree[root_node][feature_value], instance)\n",
        "    else:\n",
        "      return None"
      ],
      "metadata": {
        "id": "pmqmLJXVz9kk"
      },
      "execution_count": 22,
      "outputs": []
    },
    {
      "cell_type": "code",
      "source": [
        "def evaluate(tree, test_data_m, label):\n",
        "    correct_preditct = 0\n",
        "    wrong_preditct = 0\n",
        "    for index, row in test_data_m.iterrows():\n",
        "        result = predict(tree, test_data_m.iloc[index])\n",
        "        if result == test_data_m[label].iloc[index]:\n",
        "            correct_preditct += 1\n",
        "        else:\n",
        "            wrong_preditct += 1\n",
        "    accuracy = correct_preditct / (correct_preditct + wrong_preditct)\n",
        "    return accuracy"
      ],
      "metadata": {
        "id": "z1CAPVp_0_uS"
      },
      "execution_count": 23,
      "outputs": []
    },
    {
      "cell_type": "code",
      "source": [
        "test_data_m = pd.read_csv(\"/datalab/PlayTennis.csv\") #importing test dataset into dataframe\n",
        "\n",
        "accuracy = evaluate(tree, test_data_m, 'Play Tennis') #evaluating the test dataset\n",
        "\n",
        "print(accuracy)"
      ],
      "metadata": {
        "colab": {
          "base_uri": "https://localhost:8080/"
        },
        "id": "YLN2ILki1FRW",
        "outputId": "6b3fb82b-6a50-4f13-8060-9c9f11db4560"
      },
      "execution_count": 25,
      "outputs": [
        {
          "output_type": "stream",
          "name": "stdout",
          "text": [
            "1.0\n"
          ]
        }
      ]
    }
  ]
}